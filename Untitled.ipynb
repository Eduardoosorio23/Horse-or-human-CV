{
 "cells": [
  {
   "cell_type": "code",
   "execution_count": 2,
   "metadata": {},
   "outputs": [],
   "source": [
    "import pyforest\n",
    "import tensorflow as tf\n",
    "import tensorflow.keras as keras\n",
    "from keras import layers\n",
    "from keras.callbacks import EarlyStopping\n",
    "from keras.preprocessing.image import ImageDataGenerator\n",
    "from keras.callbacks import ReduceLROnPlateau\n",
    "\n",
    "from tensorflow.keras.applications.xception import Xception\n",
    "from tensorflow.keras.applications.vgg16 import VGG16\n",
    "\n",
    "from tensorflow.keras.optimizers import RMSprop\n",
    "\n",
    "import os"
   ]
  },
  {
   "cell_type": "code",
   "execution_count": 6,
   "metadata": {},
   "outputs": [
    {
     "name": "stdout",
     "output_type": "stream",
     "text": [
      "Total number of training horse images:  500\n",
      "Total number of training human images:  527\n",
      "Total number of training images:  1027\n",
      "\n",
      "\n",
      "Total number of validation horse images:  128\n",
      "Total number of validation human images:  128\n",
      "Total number of validation images:  256\n"
     ]
    }
   ],
   "source": [
    "#Define Paths\n",
    "train_dir = 'train/'\n",
    "train_dir_horses = 'train/horses/'\n",
    "train_dir_humans = 'train/humans/'\n",
    "\n",
    "val_dir = '.validation/'\n",
    "val_dir_horses = 'validation/horses/'\n",
    "val_dir_humans = 'validation/humans/'\n",
    "\n",
    "#Get total number of training and validation images\n",
    "print('Total number of training horse images: ',len(os.listdir(train_dir_horses)))\n",
    "print('Total number of training human images: ',len(os.listdir(train_dir_humans)))\n",
    "print('Total number of training images: ',len(os.listdir(train_dir_humans)) + len(os.listdir(train_dir_horses)))\n",
    "print('\\n')\n",
    "print('Total number of validation horse images: ',len(os.listdir(val_dir_horses)))\n",
    "print('Total number of validation human images: ',len(os.listdir(val_dir_humans)))\n",
    "print('Total number of validation images: ',len(os.listdir(val_dir_humans)) + len(os.listdir(val_dir_horses)))"
   ]
  },
  {
   "cell_type": "code",
   "execution_count": null,
   "metadata": {},
   "outputs": [],
   "source": []
  }
 ],
 "metadata": {
  "kernelspec": {
   "display_name": "Python 3",
   "language": "python",
   "name": "python3"
  },
  "language_info": {
   "codemirror_mode": {
    "name": "ipython",
    "version": 3
   },
   "file_extension": ".py",
   "mimetype": "text/x-python",
   "name": "python",
   "nbconvert_exporter": "python",
   "pygments_lexer": "ipython3",
   "version": "3.8.5"
  }
 },
 "nbformat": 4,
 "nbformat_minor": 4
}
